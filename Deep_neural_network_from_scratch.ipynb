{
  "nbformat": 4,
  "nbformat_minor": 0,
  "metadata": {
    "colab": {
      "name": "Deep neural network from scratch.ipynb",
      "provenance": [],
      "collapsed_sections": [],
      "authorship_tag": "ABX9TyNIVZZM4T1AOgU6oiROZTLe",
      "include_colab_link": true
    },
    "kernelspec": {
      "name": "python3",
      "display_name": "Python 3"
    },
    "language_info": {
      "name": "python"
    }
  },
  "cells": [
    {
      "cell_type": "markdown",
      "metadata": {
        "id": "view-in-github",
        "colab_type": "text"
      },
      "source": [
        "<a href=\"https://colab.research.google.com/github/abhidp55/Deep-Neural-Network-From-Scatch/blob/main/Deep_neural_network_from_scratch.ipynb\" target=\"_parent\"><img src=\"https://colab.research.google.com/assets/colab-badge.svg\" alt=\"Open In Colab\"/></a>"
      ]
    },
    {
      "cell_type": "markdown",
      "metadata": {
        "id": "g9qw_-gKkzDG"
      },
      "source": [
        "#Importing libraries"
      ]
    },
    {
      "cell_type": "code",
      "metadata": {
        "id": "15qq4Pqx3fWM"
      },
      "source": [
        "import tensorflow as tf\n",
        "import pandas as pd\n",
        "import numpy as np\n",
        "import matplotlib.pyplot as plt\n",
        "import seaborn as sns\n",
        "from tensorflow.keras.datasets import mnist"
      ],
      "execution_count": 23,
      "outputs": []
    },
    {
      "cell_type": "markdown",
      "metadata": {
        "id": "Lndll_ayk3Ob"
      },
      "source": [
        "#Loading the data"
      ]
    },
    {
      "cell_type": "code",
      "metadata": {
        "id": "A9PsC2su7KGh"
      },
      "source": [
        "(x_train,y_train),(x_test,y_test) = mnist.load_data()"
      ],
      "execution_count": 24,
      "outputs": []
    },
    {
      "cell_type": "markdown",
      "metadata": {
        "id": "Zz04Rgpak68l"
      },
      "source": [
        "##One hot encoding target features"
      ]
    },
    {
      "cell_type": "code",
      "metadata": {
        "id": "8GV1bAfqCTyJ"
      },
      "source": [
        "def one_hot_array(Y):\n",
        "    b = np.zeros((Y.size, Y.max() + 1))\n",
        "    b[np.arange(Y.size), Y] = 1\n",
        "    return b.T"
      ],
      "execution_count": 25,
      "outputs": []
    },
    {
      "cell_type": "code",
      "metadata": {
        "id": "e-6hMTYCCal9"
      },
      "source": [
        "y_train,y_test= one_hot_array(y_train), one_hot_array(y_test)"
      ],
      "execution_count": 26,
      "outputs": []
    },
    {
      "cell_type": "markdown",
      "metadata": {
        "id": "v-DuBmWwlBF2"
      },
      "source": [
        "## Resizing and standardizing data"
      ]
    },
    {
      "cell_type": "code",
      "metadata": {
        "colab": {
          "base_uri": "https://localhost:8080/"
        },
        "id": "wcJ10ssvDW53",
        "outputId": "0246b57e-d6db-49cc-96af-910d7b88828b"
      },
      "source": [
        "train_x_flatten = x_train.reshape(x_train.shape[0], -1).T   # The \"-1\" makes reshape flatten the remaining dimensions\n",
        "test_x_flatten = x_test.reshape(x_test.shape[0], -1).T\n",
        "\n",
        "# Standardize data to have feature values between 0 and 1.\n",
        "x_train = train_x_flatten/255.\n",
        "x_test = test_x_flatten/255.\n",
        "\n",
        "print (\"train_x's shape: \" + str(x_train.shape))\n",
        "print (\"test_x's shape: \" + str(x_test.shape))"
      ],
      "execution_count": 27,
      "outputs": [
        {
          "output_type": "stream",
          "text": [
            "train_x's shape: (784, 60000)\n",
            "test_x's shape: (784, 10000)\n"
          ],
          "name": "stdout"
        }
      ]
    },
    {
      "cell_type": "code",
      "metadata": {
        "id": "hf4axNaMG6DR"
      },
      "source": [
        "x_train = x_train[:, 0:5000]\n",
        "x_test = x_test[:, 5000:10000]\n",
        "y_train = y_train[:, 0:5000]\n",
        "y_test = y_test[:, 5000:10000]"
      ],
      "execution_count": 28,
      "outputs": []
    },
    {
      "cell_type": "code",
      "metadata": {
        "colab": {
          "base_uri": "https://localhost:8080/"
        },
        "id": "IhtSvpF4Cmaq",
        "outputId": "8e0e8c0d-bc71-4d53-8917-3d9b7977195a"
      },
      "source": [
        "print(x_train.shape)\n",
        "print(x_test.shape)\n",
        "print(y_train.shape)\n",
        "print(y_test.shape)\n"
      ],
      "execution_count": 29,
      "outputs": [
        {
          "output_type": "stream",
          "text": [
            "(784, 5000)\n",
            "(784, 5000)\n",
            "(10, 5000)\n",
            "(10, 5000)\n"
          ],
          "name": "stdout"
        }
      ]
    },
    {
      "cell_type": "markdown",
      "metadata": {
        "id": "hf0XdnpilJBa"
      },
      "source": [
        "#Initializing weights and biases"
      ]
    },
    {
      "cell_type": "code",
      "metadata": {
        "id": "tNme5EIEEe2U"
      },
      "source": [
        "def initialize_parameters_deep(layer_dims):\n",
        "    parameters = {}\n",
        "    L = len(layer_dims)            # number of layers in the network\n",
        "\n",
        "    for l in range(1, L):\n",
        "        parameters['W' + str(l)] = np.random.randn(layer_dims[l], layer_dims[l-1]) * 0.01 \n",
        "        assert(parameters['W' + str(l)].shape == (layer_dims[l], layer_dims[l-1]))\n",
        "        \n",
        "        parameters['b' + str(l)] = np.zeros((layer_dims[l], 1))\n",
        "        assert(parameters['b' + str(l)].shape == (layer_dims[l], 1))\n",
        "\n",
        "    return parameters"
      ],
      "execution_count": 30,
      "outputs": []
    },
    {
      "cell_type": "markdown",
      "metadata": {
        "id": "YJHeplLnlQ-Y"
      },
      "source": [
        "#Activation functions"
      ]
    },
    {
      "cell_type": "code",
      "metadata": {
        "id": "MMZHOX583Vh2"
      },
      "source": [
        "def softmax(Z):\n",
        "    t = np.exp(Z)\n",
        "    t = t / t.sum(axis=0, keepdims=True)\n",
        "    return t\n",
        "\n",
        "def sigmoid(Z):\n",
        "    A = 1 / (1 + np.exp(-Z))\n",
        "    return A\n",
        "\n",
        "def relu(Z):\n",
        "    A = np.maximum(0,Z)    \n",
        "    assert(A.shape == Z.shape)\n",
        "    return A"
      ],
      "execution_count": 31,
      "outputs": []
    },
    {
      "cell_type": "markdown",
      "metadata": {
        "id": "wiUiFC8tlVqY"
      },
      "source": [
        "#Forward propogation\n",
        "-linear forward activation"
      ]
    },
    {
      "cell_type": "code",
      "metadata": {
        "id": "vwFyN2_sJchh"
      },
      "source": [
        "def linear_activation_forward(A_prev, W, b, activation):\n",
        "    \n",
        "    if activation == \"sigmoid\":\n",
        "        Z = np.dot(W, A_prev) + b\n",
        "        A = sigmoid(Z)\n",
        "    \n",
        "    elif activation == \"relu\":\n",
        "        Z = np.dot(W, A_prev) + b\n",
        "        A = relu(Z)\n",
        "        \n",
        "    elif activation == \"softmax\":\n",
        "        Z = np.dot(W, A_prev) + b\n",
        "        A = softmax(Z)\n",
        "    \n",
        "    # Some assertions to check that shapes are right\n",
        "    assert(Z.shape == (W.shape[0], A.shape[1]))\n",
        "    assert (A.shape == (W.shape[0], A_prev.shape[1]))\n",
        "    \n",
        "    # Cache the necessary values for back propagation later\n",
        "    cache = (A_prev, W, b, Z)\n",
        "\n",
        "    return A, cache"
      ],
      "execution_count": 32,
      "outputs": []
    },
    {
      "cell_type": "markdown",
      "metadata": {
        "id": "SWggx3mllaQU"
      },
      "source": [
        "##Forward prop and saving caches"
      ]
    },
    {
      "cell_type": "code",
      "metadata": {
        "id": "4ETJMeDlK96V"
      },
      "source": [
        "def L_model_forward(X, parameters):\n",
        "\n",
        "    caches = []\n",
        "    A = X\n",
        "    L = len(parameters) // 2                  # number of hidden layers in the neural network\n",
        "    \n",
        "    # Hidden layers 1 to L-1 will be Relu.\n",
        "    for l in range(1, L):\n",
        "        A_prev = A \n",
        "        A, cache = linear_activation_forward(A_prev, parameters[\"W\" + str(l)], parameters[\"b\" + str(l)], activation=\"relu\")\n",
        "        caches.append(cache)\n",
        "        \n",
        "    # Output layer L will be softmax\n",
        "    AL, cache = linear_activation_forward(A, parameters[\"W\" + str(L)], parameters[\"b\" + str(L)], activation=\"softmax\")\n",
        "    caches.append(cache)\n",
        "    \n",
        "    assert(AL.shape == (10, X.shape[1]))\n",
        "            \n",
        "    return AL, caches"
      ],
      "execution_count": 33,
      "outputs": []
    },
    {
      "cell_type": "markdown",
      "metadata": {
        "id": "pRWmgbKElj6-"
      },
      "source": [
        "##Computing cost function"
      ]
    },
    {
      "cell_type": "code",
      "metadata": {
        "id": "U-Cmt7dwK2it"
      },
      "source": [
        "def compute_cost(AL, Y):\n",
        "    m = Y.shape[1]\n",
        "    \n",
        "    cost = -1/m * np.sum(np.multiply(Y, np.log(AL)))    \n",
        "    cost = np.squeeze(cost)      # To coerce data from [[17]] into 17\n",
        "    assert(cost.shape == ())\n",
        "    \n",
        "    return cost"
      ],
      "execution_count": 34,
      "outputs": []
    },
    {
      "cell_type": "markdown",
      "metadata": {
        "id": "ekP9guSZlmrJ"
      },
      "source": [
        "#Backpropogation\n",
        "-linear backwards"
      ]
    },
    {
      "cell_type": "code",
      "metadata": {
        "id": "pKfBfLYILjiA"
      },
      "source": [
        "def linear_backward(dZ, A_prev, W, b):\n",
        "    m = A_prev.shape[1]\n",
        "\n",
        "    dW = 1/m * np.dot(dZ, A_prev.T)\n",
        "    db = 1/m * np.sum(dZ, axis=1, keepdims=True)\n",
        "    dA_prev = np.dot(W.T, dZ)\n",
        "    \n",
        "    assert (dA_prev.shape == A_prev.shape)\n",
        "    assert (dW.shape == W.shape)\n",
        "    assert (db.shape == b.shape)\n",
        "    \n",
        "    return dA_prev, dW, db"
      ],
      "execution_count": 35,
      "outputs": []
    },
    {
      "cell_type": "markdown",
      "metadata": {
        "id": "_GLXlrUhlrul"
      },
      "source": [
        "##Activation functions(derivative)"
      ]
    },
    {
      "cell_type": "code",
      "metadata": {
        "id": "vuj_0GMZLjke"
      },
      "source": [
        "def relu_backward(dA, cache):\n",
        "    A_prev, W, b, Z = cache\n",
        "    \n",
        "    # Compute dZ\n",
        "    dZ = np.array(dA, copy=True) # convert dz to a numpy array\n",
        "    dZ[Z <= 0] = 0\n",
        "    assert (dZ.shape == Z.shape)\n",
        "    \n",
        "    # Compute dA_prev, dW, db\n",
        "    dA_prev, dW, db = linear_backward(dZ, A_prev, W, b)\n",
        "    return dA_prev, dW, db\n",
        "\n",
        "def softmax_backward(AL, Y, cache):\n",
        "    A_prev, W, b, Z = cache\n",
        "    \n",
        "    # Compute dZ\n",
        "    dZ = AL - Y\n",
        "    \n",
        "    # Compute dA_prev, dW, db\n",
        "    dA_prev, dW, db = linear_backward(dZ, A_prev, W, b)\n",
        "    return dA_prev, dW, db"
      ],
      "execution_count": 36,
      "outputs": []
    },
    {
      "cell_type": "markdown",
      "metadata": {
        "id": "v1PA0LlWmpY_"
      },
      "source": [
        "##Backward activation"
      ]
    },
    {
      "cell_type": "code",
      "metadata": {
        "id": "MZQlwHBsLjml"
      },
      "source": [
        "def L_model_backward(AL, Y, caches):\n",
        "    grads = {}\n",
        "    L = len(caches) # the number of layers\n",
        "    m = AL.shape[1]\n",
        "    Y = Y.reshape(AL.shape) # after this line, Y is the same shape as AL\n",
        "    \n",
        "    # Backpropagation at layer L-1\n",
        "    # The activation is softmax at layer L-1\n",
        "    current_cache = caches[L-1]\n",
        "    grads[\"dA\" + str(L-1)], grads[\"dW\" + str(L)], grads[\"db\" + str(L)] = softmax_backward(AL, Y, current_cache)\n",
        "    \n",
        "    # Backpropagation from layers L-2 to 1\n",
        "    # The activations are relu at all these layers\n",
        "    for l in reversed(range(L-1)):\n",
        "        current_cache = caches[l]\n",
        "        dA_prev_temp, dW_temp, db_temp = relu_backward(grads[\"dA\" + str(l+1)], current_cache)\n",
        "        grads[\"dA\" + str(l)] = dA_prev_temp\n",
        "        grads[\"dW\" + str(l + 1)] = dW_temp\n",
        "        grads[\"db\" + str(l + 1)] = db_temp\n",
        "\n",
        "    return grads"
      ],
      "execution_count": 37,
      "outputs": []
    },
    {
      "cell_type": "markdown",
      "metadata": {
        "id": "tbtS92hyl1EL"
      },
      "source": [
        "##Updating weights and biases"
      ]
    },
    {
      "cell_type": "code",
      "metadata": {
        "id": "FFaNLzc_Ljph"
      },
      "source": [
        "def update_parameters(parameters, grads, learning_rate):\n",
        "    L = len(parameters) // 2 # number of layers in the neural network\n",
        "    for l in range(L):\n",
        "        parameters[\"W\" + str(l+1)] = parameters[\"W\" + str(l+1)] - learning_rate * grads[\"dW\" + str(l+1)]\n",
        "        parameters[\"b\" + str(l+1)] = parameters[\"b\" + str(l+1)] - learning_rate * grads[\"db\" + str(l+1)]\n",
        "    \n",
        "    return parameters"
      ],
      "execution_count": 38,
      "outputs": []
    },
    {
      "cell_type": "markdown",
      "metadata": {
        "id": "vxZ1AdUzl4od"
      },
      "source": [
        "#Implementing N-layered neural network"
      ]
    },
    {
      "cell_type": "code",
      "metadata": {
        "id": "MCSjuDY0Ljr3"
      },
      "source": [
        "def L_layer_model(X, Y, layers_dims, learning_rate = 0.0075, num_iterations = 3000, print_cost=False):\n",
        "    costs = []                         \n",
        "\n",
        "    # Step a: Initialise Parameters\n",
        "    parameters = initialize_parameters_deep(layers_dims)\n",
        "    \n",
        "    # Iterative loops of gradient descent\n",
        "    for i in range(0, num_iterations):\n",
        "\n",
        "        # Step b: Forward Propagation\n",
        "        AL, caches = L_model_forward(X, parameters)\n",
        "        \n",
        "        # Step c: Compute cost\n",
        "        cost = compute_cost(AL, Y)\n",
        "        \n",
        "        # Step d: Backward Propagation\n",
        "        grads = L_model_backward(AL, Y, caches)\n",
        "        \n",
        "        # Step e: Update parameters\n",
        "        parameters = update_parameters(parameters, grads, learning_rate)\n",
        "                \n",
        "        # Print the cost every 100 training example\n",
        "        if print_cost and i % 100 == 0:\n",
        "            print (\"Cost after iteration %i: %f\" %(i, cost))\n",
        "        if print_cost and i % 10 == 0:\n",
        "            costs.append(cost)\n",
        "            \n",
        "    # plot the cost\n",
        "    plt.plot(np.squeeze(costs))\n",
        "    plt.ylabel('cost')\n",
        "    plt.xlabel('iterations (per tens)')\n",
        "    plt.title(\"Learning rate =\" + str(learning_rate))\n",
        "    plt.show()\n",
        "    \n",
        "    return parameters"
      ],
      "execution_count": 39,
      "outputs": []
    },
    {
      "cell_type": "code",
      "metadata": {
        "colab": {
          "base_uri": "https://localhost:8080/",
          "height": 729
        },
        "id": "wUxWCsBeLjwz",
        "outputId": "ca92bb70-4701-4427-fa3b-362497fbce1f"
      },
      "source": [
        "layers_dims = [784, 10, 10]\n",
        "parameters = L_layer_model(x_train, y_train, layers_dims, learning_rate = 0.05, num_iterations = 2500, print_cost=True)"
      ],
      "execution_count": 40,
      "outputs": [
        {
          "output_type": "stream",
          "text": [
            "Cost after iteration 0: 2.301968\n",
            "Cost after iteration 100: 2.202133\n",
            "Cost after iteration 200: 1.363735\n",
            "Cost after iteration 300: 0.815412\n",
            "Cost after iteration 400: 0.612682\n",
            "Cost after iteration 500: 0.509682\n",
            "Cost after iteration 600: 0.444023\n",
            "Cost after iteration 700: 0.398038\n",
            "Cost after iteration 800: 0.364673\n",
            "Cost after iteration 900: 0.339668\n",
            "Cost after iteration 1000: 0.320211\n",
            "Cost after iteration 1100: 0.304549\n",
            "Cost after iteration 1200: 0.291563\n",
            "Cost after iteration 1300: 0.280571\n",
            "Cost after iteration 1400: 0.271077\n",
            "Cost after iteration 1500: 0.262719\n",
            "Cost after iteration 1600: 0.255243\n",
            "Cost after iteration 1700: 0.248419\n",
            "Cost after iteration 1800: 0.242130\n",
            "Cost after iteration 1900: 0.236317\n",
            "Cost after iteration 2000: 0.230877\n",
            "Cost after iteration 2100: 0.225757\n",
            "Cost after iteration 2200: 0.220917\n",
            "Cost after iteration 2300: 0.216313\n",
            "Cost after iteration 2400: 0.211928\n"
          ],
          "name": "stdout"
        },
        {
          "output_type": "display_data",
          "data": {
            "image/png": "[encoded data removed]",
            "text/plain": [
              "<Figure size 432x288 with 1 Axes>"
            ]
          },
          "metadata": {
            "tags": [],
            "needs_background": "light"
          }
        }
      ]
    },
    {
      "cell_type": "markdown",
      "metadata": {
        "id": "5MnoKXBfl_nN"
      },
      "source": [
        "#Predictions"
      ]
    },
    {
      "cell_type": "code",
      "metadata": {
        "id": "FfpPnpIaLjur"
      },
      "source": [
        "def predict(X, parameters):\n",
        "    # Forward propagation\n",
        "    probabilities, caches = L_model_forward(X, parameters)\n",
        "    \n",
        "    # Calculate Predictions (the highest probability for a given example is coded as 1, otherwise 0)\n",
        "    predictions = (probabilities == np.amax(probabilities, axis=0, keepdims=True))\n",
        "    predictions = predictions.astype(float)\n",
        "\n",
        "    return predictions, probabilities\n",
        "\n",
        "def evaluate_prediction(predictions, Y):\n",
        "    m = Y.shape[1]\n",
        "    predictions_class = predictions.argmax(axis=0).reshape(1, m)\n",
        "    Y_class = Y.argmax(axis=0).reshape(1, m)\n",
        "    \n",
        "    return np.sum((predictions_class == Y_class) / (m))"
      ],
      "execution_count": 41,
      "outputs": []
    },
    {
      "cell_type": "code",
      "metadata": {
        "colab": {
          "base_uri": "https://localhost:8080/"
        },
        "id": "DQTowhOdCv-p",
        "outputId": "fb23f526-b9ab-4756-f419-eef63b0ab248"
      },
      "source": [
        "pred_train, probs_train = predict(x_train, parameters)\n",
        "print(\"Train set accuracy is: \" + str(evaluate_prediction(pred_train, y_train)*100) )\n",
        "pred_test, probs_test = predict(x_test, parameters)\n",
        "print(\"Test set accuracy is: \" + str(evaluate_prediction(pred_test, y_test)*100) )"
      ],
      "execution_count": 42,
      "outputs": [
        {
          "output_type": "stream",
          "text": [
            "Train set accuracy is: 94.28\n",
            "Test set accuracy is: 92.78000000000002\n"
          ],
          "name": "stdout"
        }
      ]
    },
    {
      "cell_type": "code",
      "metadata": {
        "id": "5COjJQdbsy9n"
      },
      "source": [
        ""
      ],
      "execution_count": 42,
      "outputs": []
    }
  ]
}